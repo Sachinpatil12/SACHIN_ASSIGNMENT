{
 "cells": [
  {
   "cell_type": "code",
   "execution_count": null,
   "id": "5ffea184",
   "metadata": {},
   "outputs": [],
   "source": [
    "#ANS 1\n",
    "SOFTWARE IS NOTHING BUT COLLECTION OF COMPUTER PROGRAM AND RELATED DOCUMNETS THAT ARE INTENDED TO PROVIDE DESIRED \n",
    "FEATURE, FUNCTIONALIITIES AND BETTER PERMORMANCE.\n"
   ]
  },
  {
   "cell_type": "code",
   "execution_count": null,
   "id": "19b2b3b6",
   "metadata": {},
   "outputs": [],
   "source": [
    "#ANS 2\n",
    "APPLICATION PROGRAM IS A COMPUTER PROGRAM DESIGNED TO CARRY OUT A SPECIFIC TASK OTHER THAN ONE RELATING TO THE OPERATION \n",
    "COMPUTER ITSELF, TYPICALLY TO BE USED BY END USERS.\n",
    "1. WEB APPLICATION\n",
    "2. MOBILE APPLICATION\n",
    "3. DESKTOP APPLICATION"
   ]
  },
  {
   "cell_type": "code",
   "execution_count": null,
   "id": "6db36b72",
   "metadata": {},
   "outputs": [],
   "source": [
    "#ANS3 \n",
    "PROGRAMMING IS PROCESS OF CREATING A SET OF INSTRUCTION THAT TELL A COMPUTER HOW TO PERFORM A TASK."
   ]
  },
  {
   "cell_type": "code",
   "execution_count": null,
   "id": "050f8f4d",
   "metadata": {},
   "outputs": [],
   "source": [
    "#ANS 4\n",
    "PYTHON IS AN INTERPERTED, OBJECT ORIENTED, HIGH LEVEL PROGRAMMING LANGAUGE WITH DYNAMIC SEMANTICS."
   ]
  }
 ],
 "metadata": {
  "kernelspec": {
   "display_name": "Python 3 (ipykernel)",
   "language": "python",
   "name": "python3"
  },
  "language_info": {
   "codemirror_mode": {
    "name": "ipython",
    "version": 3
   },
   "file_extension": ".py",
   "mimetype": "text/x-python",
   "name": "python",
   "nbconvert_exporter": "python",
   "pygments_lexer": "ipython3",
   "version": "3.9.13"
  }
 },
 "nbformat": 4,
 "nbformat_minor": 5
}
