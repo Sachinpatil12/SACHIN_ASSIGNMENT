{
 "cells": [
  {
   "cell_type": "code",
   "execution_count": 1,
   "id": "3e83447a",
   "metadata": {},
   "outputs": [
    {
     "name": "stdout",
     "output_type": "stream",
     "text": [
      "4\n",
      "positive\n"
     ]
    }
   ],
   "source": [
    "#ANS 1\n",
    "var1 =int(input())\n",
    "if var1 >=0:\n",
    "    if var1 ==0:\n",
    "        print('neutral')\n",
    "    elif var1 >0:\n",
    "        print('positive')\n",
    "else:\n",
    "    print('negative')\n"
   ]
  },
  {
   "cell_type": "code",
   "execution_count": null,
   "id": "c58c78ba",
   "metadata": {},
   "outputs": [],
   "source": [
    "#ANS 2\n"
   ]
  },
  {
   "cell_type": "code",
   "execution_count": null,
   "id": "6a7a3287",
   "metadata": {},
   "outputs": [],
   "source": [
    "#ANS 3"
   ]
  },
  {
   "cell_type": "code",
   "execution_count": null,
   "id": "8a166887",
   "metadata": {},
   "outputs": [],
   "source": [
    "#ANS 4\n",
    " Memory in python is managed dynamically with private heap space."
   ]
  },
  {
   "cell_type": "code",
   "execution_count": null,
   "id": "d299a78d",
   "metadata": {},
   "outputs": [],
   "source": [
    "#ANS 5"
   ]
  },
  {
   "cell_type": "code",
   "execution_count": 2,
   "id": "10901231",
   "metadata": {},
   "outputs": [
    {
     "name": "stdout",
     "output_type": "stream",
     "text": [
      "10\n",
      "20\n",
      "h1 20\n",
      "h2 10\n"
     ]
    }
   ],
   "source": [
    "#ANS 6\n",
    "h1 = int(input())\n",
    "h2 = int(input())\n",
    "h1,h2=h2,h1\n",
    "print('h1',h1)\n",
    "print('h2' , h2)\n"
   ]
  },
  {
   "cell_type": "code",
   "execution_count": 3,
   "id": "700b3065",
   "metadata": {},
   "outputs": [
    {
     "name": "stdout",
     "output_type": "stream",
     "text": [
      "6\n",
      "even\n"
     ]
    }
   ],
   "source": [
    "#ANS 7\n",
    "h = int(input())\n",
    "if h%2==0:\n",
    "    print('even')\n",
    "else:\n",
    "    print('odd')\n",
    "    \n",
    "    "
   ]
  },
  {
   "cell_type": "code",
   "execution_count": 4,
   "id": "042160d9",
   "metadata": {},
   "outputs": [
    {
     "name": "stdout",
     "output_type": "stream",
     "text": [
      "e\n",
      "vowel\n"
     ]
    }
   ],
   "source": [
    "#ANS 8\n",
    "h= input()\n",
    "if  (h=='a' or h=='e' or h=='i'or  h=='e' or h=='o' or h=='u'):\n",
    "    print('vowel')\n",
    "else:\n",
    "    print('not vowel')\n"
   ]
  },
  {
   "cell_type": "code",
   "execution_count": 6,
   "id": "863420be",
   "metadata": {},
   "outputs": [
    {
     "name": "stdout",
     "output_type": "stream",
     "text": [
      "34\n",
      "34\n",
      "true\n"
     ]
    }
   ],
   "source": [
    "#ANS 10\n",
    "a= int(input())\n",
    "b= int(input())\n",
    "c = a+b\n",
    "d = a-b\n",
    "if (a==b or c== 30 or d == 35):\n",
    "    print('true')\n",
    "else: \n",
    "    print('false')\n",
    "    "
   ]
  },
  {
   "cell_type": "code",
   "execution_count": 7,
   "id": "b0ccedc5",
   "metadata": {},
   "outputs": [
    {
     "name": "stdout",
     "output_type": "stream",
     "text": [
      "23\n",
      "276\n"
     ]
    }
   ],
   "source": [
    "# ANS 11\n",
    "sachin= int(input())\n",
    "a = sachin + 1\n",
    "b =a/2\n",
    "c =b*sachin\n",
    "d =int(c)\n",
    "print(d)\n"
   ]
  },
  {
   "cell_type": "code",
   "execution_count": 8,
   "id": "76d52af2",
   "metadata": {},
   "outputs": [
    {
     "name": "stdout",
     "output_type": "stream",
     "text": [
      "sachin\n",
      "6\n"
     ]
    }
   ],
   "source": [
    "#ANS 13\n",
    "string = input()\n",
    "print(len(string))\n"
   ]
  },
  {
   "cell_type": "code",
   "execution_count": null,
   "id": "0a6ff608",
   "metadata": {},
   "outputs": [],
   "source": [
    "#ANS 15"
   ]
  },
  {
   "cell_type": "code",
   "execution_count": null,
   "id": "e545b83e",
   "metadata": {},
   "outputs": [],
   "source": [
    "#ANS 16"
   ]
  },
  {
   "cell_type": "code",
   "execution_count": null,
   "id": "7a9bd322",
   "metadata": {},
   "outputs": [],
   "source": [
    "#ANS 17"
   ]
  },
  {
   "cell_type": "code",
   "execution_count": null,
   "id": "7bc4e882",
   "metadata": {},
   "outputs": [],
   "source": [
    "#ANS 18"
   ]
  },
  {
   "cell_type": "code",
   "execution_count": null,
   "id": "29c45a5d",
   "metadata": {},
   "outputs": [],
   "source": [
    "#ANS 19"
   ]
  },
  {
   "cell_type": "code",
   "execution_count": null,
   "id": "bddfbba0",
   "metadata": {},
   "outputs": [],
   "source": [
    "#ANS 20"
   ]
  },
  {
   "cell_type": "code",
   "execution_count": null,
   "id": "ac80e619",
   "metadata": {},
   "outputs": [],
   "source": [
    "#ANS 21"
   ]
  },
  {
   "cell_type": "code",
   "execution_count": null,
   "id": "7fe5bfa8",
   "metadata": {},
   "outputs": [],
   "source": [
    "#ANS 22"
   ]
  },
  {
   "cell_type": "code",
   "execution_count": null,
   "id": "fad8fd72",
   "metadata": {},
   "outputs": [],
   "source": [
    "#ANS 23"
   ]
  }
 ],
 "metadata": {
  "kernelspec": {
   "display_name": "Python 3 (ipykernel)",
   "language": "python",
   "name": "python3"
  },
  "language_info": {
   "codemirror_mode": {
    "name": "ipython",
    "version": 3
   },
   "file_extension": ".py",
   "mimetype": "text/x-python",
   "name": "python",
   "nbconvert_exporter": "python",
   "pygments_lexer": "ipython3",
   "version": "3.9.13"
  }
 },
 "nbformat": 4,
 "nbformat_minor": 5
}
