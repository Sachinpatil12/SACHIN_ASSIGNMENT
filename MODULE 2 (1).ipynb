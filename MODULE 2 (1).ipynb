{
 "cells": [
  {
   "cell_type": "code",
   "execution_count": 1,
   "id": "3e83447a",
   "metadata": {},
   "outputs": [
    {
     "name": "stdout",
     "output_type": "stream",
     "text": [
      "9\n",
      "positive\n"
     ]
    }
   ],
   "source": [
    "#ANS 1\n",
    "var1 =int(input())\n",
    "if var1 >=0:\n",
    "    if var1 ==0:\n",
    "        print('neutral')\n",
    "    elif var1 >0:\n",
    "        print('positive')\n",
    "else:\n",
    "    print('negative')\n"
   ]
  },
  {
   "cell_type": "code",
   "execution_count": 2,
   "id": "c58c78ba",
   "metadata": {},
   "outputs": [
    {
     "name": "stdout",
     "output_type": "stream",
     "text": [
      "8\n",
      "40320\n"
     ]
    }
   ],
   "source": [
    "#ANS 2\n",
    "var1=int(input())\n",
    "ans=1\n",
    "for i in range (var1,1,-1):\n",
    "    ans*=i\n",
    "print(ans)\n"
   ]
  },
  {
   "cell_type": "code",
   "execution_count": null,
   "id": "6a7a3287",
   "metadata": {},
   "outputs": [],
   "source": [
    "#ANS 3\n",
    "num=int(input())\n",
    "a=0\n",
    "b=1\n",
    "for i in range(num):\n",
    "    print(a, end=' ')\n",
    "    a, b= b, a+b"
   ]
  },
  {
   "cell_type": "code",
   "execution_count": null,
   "id": "8a166887",
   "metadata": {},
   "outputs": [],
   "source": [
    "#ANS 4\n",
    " Memory in python is managed dynamically with private heap space."
   ]
  },
  {
   "cell_type": "code",
   "execution_count": null,
   "id": "d299a78d",
   "metadata": {},
   "outputs": [],
   "source": [
    "#ANS 5\n",
    "#continue statement:\n",
    "                   current iteration will be terminated right away and will continue from the nerxt iteration."
   ]
  },
  {
   "cell_type": "code",
   "execution_count": 3,
   "id": "10901231",
   "metadata": {},
   "outputs": [
    {
     "name": "stdout",
     "output_type": "stream",
     "text": [
      "10\n",
      "10\n",
      "h1 10\n",
      "h2 10\n"
     ]
    }
   ],
   "source": [
    "#ANS 6\n",
    "h1 = int(input())\n",
    "h2 = int(input())\n",
    "h1,h2=h2,h1\n",
    "print('h1',h1)\n",
    "print('h2' , h2)\n"
   ]
  },
  {
   "cell_type": "code",
   "execution_count": 4,
   "id": "700b3065",
   "metadata": {},
   "outputs": [
    {
     "name": "stdout",
     "output_type": "stream",
     "text": [
      "7\n",
      "odd\n"
     ]
    }
   ],
   "source": [
    "#ANS 7\n",
    "h = int(input())\n",
    "if h%2==0:\n",
    "    print('even')\n",
    "else:\n",
    "    print('odd')\n",
    "    \n",
    "    "
   ]
  },
  {
   "cell_type": "code",
   "execution_count": 5,
   "id": "042160d9",
   "metadata": {},
   "outputs": [
    {
     "name": "stdout",
     "output_type": "stream",
     "text": [
      "a\n",
      "vowel\n"
     ]
    }
   ],
   "source": [
    "#ANS 8\n",
    "h= input()\n",
    "if  (h=='a' or h=='e' or h=='i'or  h=='e' or h=='o' or h=='u'):\n",
    "    print('vowel')\n",
    "else:\n",
    "    print('not vowel')\n"
   ]
  },
  {
   "cell_type": "code",
   "execution_count": 6,
   "id": "3515d626",
   "metadata": {},
   "outputs": [
    {
     "name": "stdout",
     "output_type": "stream",
     "text": [
      "7\n",
      "9\n",
      "9\n",
      "0\n"
     ]
    }
   ],
   "source": [
    "#ANS 9\n",
    "a=int(input())\n",
    "b=int(input())\n",
    "c=int(input())\n",
    "if a==b or b==c or c==a:\n",
    "    sum=0\n",
    "else :\n",
    "    sum=a+b+c\n",
    "print(sum)\n"
   ]
  },
  {
   "cell_type": "code",
   "execution_count": 7,
   "id": "863420be",
   "metadata": {},
   "outputs": [
    {
     "name": "stdout",
     "output_type": "stream",
     "text": [
      "10\n",
      "10\n",
      "true\n"
     ]
    }
   ],
   "source": [
    "#ANS 10\n",
    "a= int(input())\n",
    "b= int(input())\n",
    "c = a+b\n",
    "d = a-b\n",
    "if (a==b or c== 30 or d == 35):\n",
    "    print('true')\n",
    "else: \n",
    "    print('false')\n",
    "    \n",
    "    "
   ]
  },
  {
   "cell_type": "code",
   "execution_count": 8,
   "id": "b0ccedc5",
   "metadata": {},
   "outputs": [
    {
     "name": "stdout",
     "output_type": "stream",
     "text": [
      "10\n",
      "55\n"
     ]
    }
   ],
   "source": [
    "# ANS 11\n",
    "sachin= int(input())\n",
    "a = sachin + 1\n",
    "b =a/2\n",
    "c =b*sachin\n",
    "d =int(c)\n",
    "print(d)\n"
   ]
  },
  {
   "cell_type": "code",
   "execution_count": 9,
   "id": "76d52af2",
   "metadata": {},
   "outputs": [
    {
     "name": "stdout",
     "output_type": "stream",
     "text": [
      "sachin\n",
      "6\n"
     ]
    }
   ],
   "source": [
    "#ANS 12\n",
    "string = input()\n",
    "print(len(string))\n"
   ]
  },
  {
   "cell_type": "code",
   "execution_count": 10,
   "id": "8c6fb8ce",
   "metadata": {},
   "outputs": [
    {
     "data": {
      "text/plain": [
       "2"
      ]
     },
     "execution_count": 10,
     "metadata": {},
     "output_type": "execute_result"
    }
   ],
   "source": [
    "#ANS 13\n",
    "var1='sachin tendulkar'\n",
    "var1.count('a')"
   ]
  },
  {
   "cell_type": "code",
   "execution_count": null,
   "id": "0a6ff608",
   "metadata": {},
   "outputs": [],
   "source": [
    "#ANS 14\n",
    "#Negative index:\n",
    "    #negative indexing means start from the end , -1 refer to the last character,-2 refer to second last character.\n",
    "#use:-\n",
    "    #It is used to count the characters from right side to left side (-1,-2,-3....)\n",
    "    \n",
    "    "
   ]
  },
  {
   "cell_type": "code",
   "execution_count": 11,
   "id": "e545b83e",
   "metadata": {},
   "outputs": [
    {
     "data": {
      "text/plain": [
       "1"
      ]
     },
     "execution_count": 11,
     "metadata": {},
     "output_type": "execute_result"
    }
   ],
   "source": [
    "#ANS 15\n",
    "var1 = 'python is the best programming langauge in the world'\n",
    "var1.count('python')"
   ]
  },
  {
   "cell_type": "code",
   "execution_count": 12,
   "id": "076122c5",
   "metadata": {},
   "outputs": [
    {
     "data": {
      "text/plain": [
       "2"
      ]
     },
     "execution_count": 12,
     "metadata": {},
     "output_type": "execute_result"
    }
   ],
   "source": [
    "#ANS 16\n",
    "var1 = 'python is the best programming langauge in the world'\n",
    "var1.count('p')"
   ]
  },
  {
   "cell_type": "code",
   "execution_count": 15,
   "id": "7a9bd322",
   "metadata": {},
   "outputs": [
    {
     "data": {
      "text/plain": [
       "'sasa chinmmy'"
      ]
     },
     "execution_count": 15,
     "metadata": {},
     "output_type": "execute_result"
    }
   ],
   "source": [
    "#ANS 17\n",
    "num='sachin'\n",
    "num2='sammy'\n",
    "num2[0:2]+num[0:2]+' '+num[2:6]+num2[2:5]"
   ]
  },
  {
   "cell_type": "code",
   "execution_count": 17,
   "id": "7bc4e882",
   "metadata": {},
   "outputs": [
    {
     "name": "stdout",
     "output_type": "stream",
     "text": [
      "ggggg\n",
      "ggggging\n"
     ]
    }
   ],
   "source": [
    "#ANS 18\n",
    "a=input()\n",
    "if len(a)>=3:\n",
    "    if a.endswith('ing'):\n",
    "        print(a.replace('ing','ly'))\n",
    "    else:\n",
    "        print(a + 'ing')\n",
    "else:\n",
    "    print(a)\n"
   ]
  },
  {
   "cell_type": "code",
   "execution_count": 18,
   "id": "bddfbba0",
   "metadata": {},
   "outputs": [
    {
     "data": {
      "text/plain": [
       "' i am good singer'"
      ]
     },
     "execution_count": 18,
     "metadata": {},
     "output_type": "execute_result"
    }
   ],
   "source": [
    "#ANS 19\n",
    "str1= ' i am good singer'\n",
    "str1.replace('not poor', 'not good')"
   ]
  }
 ],
 "metadata": {
  "kernelspec": {
   "display_name": "Python 3 (ipykernel)",
   "language": "python",
   "name": "python3"
  },
  "language_info": {
   "codemirror_mode": {
    "name": "ipython",
    "version": 3
   },
   "file_extension": ".py",
   "mimetype": "text/x-python",
   "name": "python",
   "nbconvert_exporter": "python",
   "pygments_lexer": "ipython3",
   "version": "3.9.13"
  }
 },
 "nbformat": 4,
 "nbformat_minor": 5
}
