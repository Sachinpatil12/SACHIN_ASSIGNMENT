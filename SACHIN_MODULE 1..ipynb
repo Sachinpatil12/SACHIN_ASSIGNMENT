{
 "cells": [
  {
   "cell_type": "code",
   "execution_count": 18,
   "id": "b744e564",
   "metadata": {},
   "outputs": [
    {
     "name": "stdout",
     "output_type": "stream",
     "text": [
      "7\n",
      "28\n"
     ]
    }
   ],
   "source": [
    "#ANS1 Write a python program to sum of the first n positive integers\n",
    "\n",
    "n= int(input())\n",
    "s=0\n",
    "for i in range (1,n+1):\n",
    "    s+=i\n",
    "print(s)\n"
   ]
  },
  {
   "cell_type": "code",
   "execution_count": 25,
   "id": "930179a9",
   "metadata": {},
   "outputs": [
    {
     "name": "stdout",
     "output_type": "stream",
     "text": [
      "enter the stringg g g h \n",
      "enter sub ngh\n",
      "1\n"
     ]
    }
   ],
   "source": [
    "#ANS 2 Write a Python program to count occurrences of a substring in a string.\n",
    "\n",
    "str1=input('enter the string')\n",
    "sub_str2 =input('enter sub string')\n",
    "p= str1.count(sub_str2)\n",
    "print(p)"
   ]
  },
  {
   "cell_type": "code",
   "execution_count": 26,
   "id": "0248b9d1",
   "metadata": {},
   "outputs": [
    {
     "name": "stdout",
     "output_type": "stream",
     "text": [
      "enter the stringsachin sachin boni gurupreet\n",
      "[2, 2, 1, 1]\n"
     ]
    }
   ],
   "source": [
    "#ANS 3Write a Python program to count the occurrences of each word in a given sentence.\n",
    "\n",
    "str1= input('enter the string')\n",
    "str2 = str1.split()\n",
    "a=[]\n",
    "for i in str2:\n",
    "    ans1 = str1.count(i)\n",
    "    a += [ans1]\n",
    "print(a)\n"
   ]
  },
  {
   "cell_type": "code",
   "execution_count": 27,
   "id": "4a5c3304",
   "metadata": {},
   "outputs": [
    {
     "data": {
      "text/plain": [
       "'sasa chinmmy'"
      ]
     },
     "execution_count": 27,
     "metadata": {},
     "output_type": "execute_result"
    }
   ],
   "source": [
    "#ANS 4 Write a Python program to get a single string from two given strings, separated by a space and swap the first\n",
    "#two characters of each string. \n",
    "\n",
    "num='sachin'\n",
    "num2='sammy'\n",
    "num2[0:2]+num[0:2]+' '+num[2:6]+num2[2:5]"
   ]
  },
  {
   "cell_type": "code",
   "execution_count": 3,
   "id": "865e9a7a",
   "metadata": {},
   "outputs": [
    {
     "name": "stdout",
     "output_type": "stream",
     "text": [
      "sachin\n",
      "sachining\n"
     ]
    }
   ],
   "source": [
    "#ANS 5 Write a Python program to add 'ing' at the end of a given string (length should be at least 3).\n",
    "#If the given string already ends with 'ing' then add 'ly' instead If the string length of the given\n",
    "#string is less than 3, leave it unchanged \n",
    "\n",
    "a= input()\n",
    "if len(a)>=3:\n",
    "    if a.endswith('ing'):\n",
    "        print(a.replace('ing','ly'))\n",
    "    else:\n",
    "        print(a + 'ing')\n",
    "else:\n",
    "    print(a)\n",
    "    "
   ]
  },
  {
   "cell_type": "code",
   "execution_count": 4,
   "id": "57ba8632",
   "metadata": {},
   "outputs": [
    {
     "data": {
      "text/plain": [
       "'i am good person'"
      ]
     },
     "execution_count": 4,
     "metadata": {},
     "output_type": "execute_result"
    }
   ],
   "source": [
    "#ANS 6 Write a Python program to find the first appearance of the substring 'not' and 'poor' from a given string, if\n",
    "#'not' follows the 'poor', replace the whole 'not'...'poor' substring with 'good'.\n",
    "#Return the resulting string\n",
    "\n",
    "str1 = 'i am not poor person'\n",
    "str1.replace('not poor', 'good')"
   ]
  },
  {
   "cell_type": "code",
   "execution_count": 17,
   "id": "5931f906",
   "metadata": {},
   "outputs": [
    {
     "name": "stdout",
     "output_type": "stream",
     "text": [
      "GCD of 98 and 56 is 14\n"
     ]
    }
   ],
   "source": [
    "#ANS 7 Program to find Greatest Common Divisor of two numbers.\n",
    "#For example, the GCD of 20 and 28 is 4 and GCD of 98 and 56 is 14.\n",
    "\n",
    "def gcd(a,b):\n",
    "    result =min(a,b)\n",
    "    while result:\n",
    "        if a% result ==0 and b% result ==0:\n",
    "            break\n",
    "        result-=1\n",
    "    return result\n",
    "a=98\n",
    "b=56\n",
    "print(f\"GCD of {a} and {b} is {gcd(a,b)}\")\n",
    "    \n",
    "    "
   ]
  },
  {
   "cell_type": "code",
   "execution_count": 18,
   "id": "4f47dc70",
   "metadata": {},
   "outputs": [
    {
     "name": "stdout",
     "output_type": "stream",
     "text": [
      "present\n"
     ]
    }
   ],
   "source": [
    "#ANS 8 8. Write a Python program to check whether a list contains a sublist.\n",
    "\n",
    "list1 = ['vikings'],['throne of body'],['ring in the world']\n",
    "list2= ['ring in the world']\n",
    "if list2 in list1:\n",
    "    print('present')\n",
    "else:\n",
    "    print('not present')"
   ]
  },
  {
   "cell_type": "code",
   "execution_count": 6,
   "id": "594c8c40",
   "metadata": {},
   "outputs": [
    {
     "name": "stdout",
     "output_type": "stream",
     "text": [
      "20\n"
     ]
    }
   ],
   "source": [
    "#ANS 9 Write a Python program to find the second smallest number in a list.\n",
    "\n",
    "list3 =['10','30','20','40']\n",
    "list3.sort()\n",
    "print(list3[1])"
   ]
  },
  {
   "cell_type": "code",
   "execution_count": 8,
   "id": "63af13f6",
   "metadata": {},
   "outputs": [
    {
     "name": "stdout",
     "output_type": "stream",
     "text": [
      "{0, 2, 3, 5, 6, 11}\n"
     ]
    }
   ],
   "source": [
    "#ANS 10  Write a Python program to get unique values from a list\n",
    "\n",
    "list4 = [0,11,2,0,3,5,6]\n",
    "s= set(list4)\n",
    "print(s)"
   ]
  },
  {
   "cell_type": "code",
   "execution_count": 9,
   "id": "079c60c2",
   "metadata": {},
   "outputs": [
    {
     "data": {
      "text/plain": [
       "[(22, 20), (22, 40), (33, 55), (44, 67)]"
      ]
     },
     "execution_count": 9,
     "metadata": {},
     "output_type": "execute_result"
    }
   ],
   "source": [
    "#Ans 11 Write a Python program to unzip a list of tuples into individual lists.\n",
    "\n",
    "s=zip([22,22,33,44,55],[20,40,55,67])\n",
    "list(s)"
   ]
  },
  {
   "cell_type": "code",
   "execution_count": 11,
   "id": "33e78bab",
   "metadata": {},
   "outputs": [
    {
     "data": {
      "text/plain": [
       "{222: 4444, 3344: 8888}"
      ]
     },
     "execution_count": 11,
     "metadata": {},
     "output_type": "execute_result"
    }
   ],
   "source": [
    "#12 Write a Python program to convert a list of tuples into a dictionary\n",
    "\n",
    "list1=[(222,22),(222,4444),(3344,8888)]\n",
    "dict(list1)"
   ]
  },
  {
   "cell_type": "code",
   "execution_count": 15,
   "id": "b28b5761",
   "metadata": {},
   "outputs": [
    {
     "name": "stdout",
     "output_type": "stream",
     "text": [
      "ascending= {22: 22, 33: 34, 44: 66}\n",
      "descending= {44: 66, 33: 34, 22: 22}\n"
     ]
    }
   ],
   "source": [
    "#13Write a Python program to sort a dictionary (ascending /descending) by value.\n",
    "\n",
    "dict10={22:22,33:34,44:66}\n",
    "dict11=dict12=list(dict10.items())\n",
    "dict11.sort()\n",
    "print('ascending=',dict(dict11))\n",
    "dict12.sort(reverse=True)\n",
    "print('descending=', dict(dict12))"
   ]
  },
  {
   "cell_type": "code",
   "execution_count": 25,
   "id": "7b5106e7",
   "metadata": {},
   "outputs": [
    {
     "name": "stdout",
     "output_type": "stream",
     "text": [
      "[40, 30, 20]\n"
     ]
    }
   ],
   "source": [
    "#ANS 14 Write a Python program to find the highest 3 values in a dictionary.\n",
    "\n",
    "dict1 = {'a':10, 'b':20 , 'c':30 , 'd':40}\n",
    "a = list(dict1.values())\n",
    "a.sort(reverse=True)\n",
    "a.pop()\n",
    "print(a)\n",
    "\n"
   ]
  },
  {
   "cell_type": "code",
   "execution_count": 17,
   "id": "c1662e26",
   "metadata": {},
   "outputs": [
    {
     "name": "stdout",
     "output_type": "stream",
     "text": [
      "9\n",
      "0 1 1 2 3 5 8 13 21 "
     ]
    }
   ],
   "source": [
    "#ANS 15 Given a number n, write a python program to make and print the list of Fibonacci series up to n.\n",
    "#Input : n=7\n",
    "#Hint : first 7 numbers in the series\n",
    "#Expected output :\n",
    "#First few Fibonacci numbers are 0, 1, 1, 2, 3, 5, 8, 13\n",
    "\n",
    "num=int(input())\n",
    "var1=0\n",
    "var2=1\n",
    "for i in range(num):\n",
    "    print(var1,end=' ')\n",
    "    var1,var2=var2,var1+var2"
   ]
  },
  {
   "cell_type": "code",
   "execution_count": 3,
   "id": "5707efc7",
   "metadata": {},
   "outputs": [
    {
     "name": "stdout",
     "output_type": "stream",
     "text": [
      "{1: 5, 5: 2, 3: 3, 4: 3, 2: 4}\n"
     ]
    }
   ],
   "source": [
    "#ANS 16\n",
    "#Counting the frequencies in a list using a dictionary in Python.\n",
    "\n",
    "mylist = [1, 1, 1, 5, 5, 3, 1, 3, 3, 1,4, 4, 4, 2, 2, 2, 2]\n",
    "mydict ={}\n",
    "\n",
    "for element in mylist:\n",
    "    if element in mydict:\n",
    "        mydict[element] +=1\n",
    "    else:\n",
    "        mydict[element]=1\n",
    "print(mydict)\n",
    "\n",
    "        \n",
    "    \n",
    "    "
   ]
  },
  {
   "cell_type": "code",
   "execution_count": 4,
   "id": "82c0111d",
   "metadata": {},
   "outputs": [],
   "source": [
    "#ANS 18 Python Program to Find Factorial of Number Using Recursion\n",
    "\n",
    "def fac1(n):\n",
    "    if n==1:\n",
    "        return 1\n",
    "    else:\n",
    "        return n* fac1(n-1)\n"
   ]
  },
  {
   "cell_type": "code",
   "execution_count": 6,
   "id": "6f8e1eae",
   "metadata": {},
   "outputs": [
    {
     "data": {
      "text/plain": [
       "24"
      ]
     },
     "execution_count": 6,
     "metadata": {},
     "output_type": "execute_result"
    }
   ],
   "source": [
    "fac1(4)"
   ]
  },
  {
   "cell_type": "code",
   "execution_count": 23,
   "id": "ca7c12e4",
   "metadata": {},
   "outputs": [
    {
     "name": "stdout",
     "output_type": "stream",
     "text": [
      "[1]\n"
     ]
    }
   ],
   "source": [
    " #Ans 19 Write a Python function that takes a list and returns a new list with unique elements of the first list.\n",
    "\n",
    "def unique_list(list6):\n",
    " list3 =[]\n",
    " for a in list6:\n",
    "        if a  not in list3:\n",
    "         list3.append(a)\n",
    "        return list3\n",
    "print(unique_list([1,2,3,4,4,4,4,5]))\n",
    "    \n",
    "    "
   ]
  }
 ],
 "metadata": {
  "kernelspec": {
   "display_name": "Python 3 (ipykernel)",
   "language": "python",
   "name": "python3"
  },
  "language_info": {
   "codemirror_mode": {
    "name": "ipython",
    "version": 3
   },
   "file_extension": ".py",
   "mimetype": "text/x-python",
   "name": "python",
   "nbconvert_exporter": "python",
   "pygments_lexer": "ipython3",
   "version": "3.9.13"
  }
 },
 "nbformat": 4,
 "nbformat_minor": 5
}
