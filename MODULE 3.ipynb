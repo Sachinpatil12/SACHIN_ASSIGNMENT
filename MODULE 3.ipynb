{
 "cells": [
  {
   "cell_type": "code",
   "execution_count": null,
   "id": "4a7deb35",
   "metadata": {},
   "outputs": [],
   "source": [
    "#ANS 1 what is list ? how to reverse a list.\n",
    "\n",
    "#List is one of the data type in python.\n",
    "#list is denoted by [] Sqaure bracket.\n",
    "#list can be reversed by using a method called  .reverse()"
   ]
  },
  {
   "cell_type": "code",
   "execution_count": null,
   "id": "9f00bac7",
   "metadata": {},
   "outputs": [],
   "source": [
    "#ANS 2 how will remove last object from a list?\n",
    "\n",
    "#Remove a Last object from a List can be use a  .pop()  Method. "
   ]
  },
  {
   "cell_type": "code",
   "execution_count": 1,
   "id": "5995fffc",
   "metadata": {},
   "outputs": [
    {
     "data": {
      "text/plain": [
       "25"
      ]
     },
     "execution_count": 1,
     "metadata": {},
     "output_type": "execute_result"
    }
   ],
   "source": [
    "#ANS 3 What is list[-1]\n",
    "list1=[2,33,222,14,25]\n",
    "list1[-1]"
   ]
  },
  {
   "cell_type": "code",
   "execution_count": null,
   "id": "cc1d123a",
   "metadata": {},
   "outputs": [],
   "source": [
    "#ANS 4 Different between .append() and .extend() method\n",
    "\n",
    "# append() methods add an elements as 1 element.\n",
    "# extend() methods can only add iterable as an individual.\n"
   ]
  },
  {
   "cell_type": "code",
   "execution_count": null,
   "id": "62b88262",
   "metadata": {},
   "outputs": [],
   "source": [
    "#ANS 5"
   ]
  },
  {
   "cell_type": "code",
   "execution_count": 3,
   "id": "8b8a7461",
   "metadata": {},
   "outputs": [
    {
     "name": "stdout",
     "output_type": "stream",
     "text": [
      "both list are not same\n"
     ]
    }
   ],
   "source": [
    "#ANS 6 How will compare two list?\n",
    "\n",
    "list1=[12,23,33,67]\n",
    "list2=[33,44,55,44]\n",
    "list1.sort()\n",
    "list2.sort()\n",
    "if list1 == list2:\n",
    "    print('both list is same')\n",
    "else:\n",
    "    print('both list are not same')\n"
   ]
  },
  {
   "cell_type": "code",
   "execution_count": null,
   "id": "b1980c78",
   "metadata": {},
   "outputs": [],
   "source": [
    "#ANS 7"
   ]
  },
  {
   "cell_type": "code",
   "execution_count": 6,
   "id": "b11da3db",
   "metadata": {},
   "outputs": [
    {
     "name": "stdout",
     "output_type": "stream",
     "text": [
      "[{88, 33, 77, 55}]\n"
     ]
    }
   ],
   "source": [
    "#ANS 8 Write a python program to remove duplicate from a list \n",
    "\n",
    "list1=[{33,55,77,77,88,88}]\n",
    "print(list1)"
   ]
  },
  {
   "cell_type": "code",
   "execution_count": 7,
   "id": "e3c0a3d6",
   "metadata": {},
   "outputs": [
    {
     "name": "stdout",
     "output_type": "stream",
     "text": [
      "list is empty\n"
     ]
    }
   ],
   "source": [
    "#ANS9 Write  a python programme to check a list is empty or not\n",
    "list1=[]\n",
    "if len(list1)==0:\n",
    "    print('list is empty')\n",
    "else:\n",
    "    print('list is not empty')"
   ]
  },
  {
   "cell_type": "code",
   "execution_count": null,
   "id": "041664ae",
   "metadata": {},
   "outputs": [],
   "source": [
    "#ANS 10\n"
   ]
  },
  {
   "cell_type": "code",
   "execution_count": 14,
   "id": "f669ada2",
   "metadata": {},
   "outputs": [
    {
     "name": "stdout",
     "output_type": "stream",
     "text": [
      "[1, 4, 9, 16, 676, 729, 784, 841, 900]\n"
     ]
    }
   ],
   "source": [
    "#ANS 11 Write a python program to generate and print a list of first and last 5 elements \n",
    " #where the value sqaure of num between 1 to 30\n",
    "    \n",
    "list1=[]\n",
    "for i in range (1,31):\n",
    "    if i<5 or (i>25 and i<=30):\n",
    "        list1.append(i*i)\n",
    "print(list1)"
   ]
  },
  {
   "cell_type": "code",
   "execution_count": 16,
   "id": "f3158221",
   "metadata": {},
   "outputs": [
    {
     "name": "stdout",
     "output_type": "stream",
     "text": [
      "{33, 4, 455, 22, 4445}\n"
     ]
    }
   ],
   "source": [
    "#ANS 12 write a python function that take a list and return a new list with unique elements of first list\n",
    "\n",
    "list1=[22,33,4,455,4445,455,4]\n",
    "s=set(list1)\n",
    "print(s)"
   ]
  },
  {
   "cell_type": "code",
   "execution_count": 17,
   "id": "24dda8cc",
   "metadata": {},
   "outputs": [
    {
     "name": "stdout",
     "output_type": "stream",
     "text": [
      "abcde\n"
     ]
    }
   ],
   "source": [
    "#ANS 13  write a python program to convert a list of character into string\n",
    "list1=['a','b','c','d','e']\n",
    "str1=''.join(list1)\n",
    "print(str1)"
   ]
  },
  {
   "cell_type": "code",
   "execution_count": null,
   "id": "918a71eb",
   "metadata": {},
   "outputs": [],
   "source": [
    "#AnS 14\n"
   ]
  },
  {
   "cell_type": "code",
   "execution_count": 18,
   "id": "ce16655d",
   "metadata": {},
   "outputs": [
    {
     "name": "stdout",
     "output_type": "stream",
     "text": [
      "33\n"
     ]
    }
   ],
   "source": [
    "#ANS 15 write a python program to find second smallest number in a list\n",
    "list2=[22,33,66,44,66,55]\n",
    "list2.sort()\n",
    "print(list2[1])"
   ]
  },
  {
   "cell_type": "code",
   "execution_count": null,
   "id": "ca76b4ab",
   "metadata": {},
   "outputs": [],
   "source": [
    "#ANS 16"
   ]
  },
  {
   "cell_type": "code",
   "execution_count": null,
   "id": "b8902949",
   "metadata": {},
   "outputs": [],
   "source": [
    "#ANS 17\n"
   ]
  },
  {
   "cell_type": "code",
   "execution_count": 20,
   "id": "c6869187",
   "metadata": {},
   "outputs": [
    {
     "name": "stdout",
     "output_type": "stream",
     "text": [
      "22\n"
     ]
    }
   ],
   "source": [
    "#ANS 18 write a python program to split a list in different variable.\n",
    "\n",
    "a,b,c,d,e=[22,2,33,44,45]\n",
    "print(a)"
   ]
  },
  {
   "cell_type": "code",
   "execution_count": null,
   "id": "77d1375a",
   "metadata": {},
   "outputs": [],
   "source": [
    "#ANS 19 what is tuple? Different between tuple and list \n",
    "\n",
    "# Tuple is immutable, ordered, indexed\n",
    "# Tuple data type allow all duplicate elements.\n",
    "# In tuple all datatypes use in tuple elements.\n",
    "\n",
    "# DIFFERENCE:-\n",
    "              #Tuple is immutable data type\n",
    "              # list is mutable data type ,so change a elements in list as per required.\n",
    "        \n",
    "\n"
   ]
  },
  {
   "cell_type": "code",
   "execution_count": 22,
   "id": "3d4a5907",
   "metadata": {},
   "outputs": [
    {
     "name": "stdout",
     "output_type": "stream",
     "text": [
      "(1, 2.3, 'sachin', True, [12, 22], (1, 2, 3, 3), {33, 22}, {22: 23, 55: 55})\n"
     ]
    }
   ],
   "source": [
    "#ANS 20 write a python program to create a tuple with different data types \n",
    "\n",
    "tupl1=(1,2.3,'sachin',True,[12,22],(1,2,3,3),{22,33},{22:23,55:55})\n",
    "print(tupl1)"
   ]
  },
  {
   "cell_type": "code",
   "execution_count": 23,
   "id": "4b88d496",
   "metadata": {},
   "outputs": [
    {
     "name": "stdout",
     "output_type": "stream",
     "text": [
      "(22, 33, 44, 55, 55)\n"
     ]
    }
   ],
   "source": [
    "#ANS 21 write a python program to create a tuple with number\n",
    "tupl2=22,33,44,55,55\n",
    "print(tupl2)"
   ]
  },
  {
   "cell_type": "code",
   "execution_count": null,
   "id": "fe1913fc",
   "metadata": {},
   "outputs": [],
   "source": [
    "#ANS 22\n"
   ]
  },
  {
   "cell_type": "code",
   "execution_count": 28,
   "id": "1e444869",
   "metadata": {},
   "outputs": [
    {
     "name": "stdout",
     "output_type": "stream",
     "text": [
      "9\n",
      "element is empty\n"
     ]
    }
   ],
   "source": [
    "#ANS 23 write a python program to check weather element exist within an element\n",
    "\n",
    "tup2=int(input())\n",
    "tup2=()\n",
    "if len(tup2)!=0:\n",
    "    print('element exit in tuple')\n",
    "else:\n",
    "    print('element is empty')\n",
    "    "
   ]
  },
  {
   "cell_type": "code",
   "execution_count": 31,
   "id": "f8e839a1",
   "metadata": {},
   "outputs": [
    {
     "name": "stdout",
     "output_type": "stream",
     "text": [
      "5\n"
     ]
    }
   ],
   "source": [
    "#ANS 24 write a python program to find lenght of tuple\n",
    "\n",
    "tuple3= (1,2.4,'sagar',(33,33),{33,'sachin'})\n",
    "y=len(tuple3)\n",
    "print(y)"
   ]
  },
  {
   "cell_type": "code",
   "execution_count": 34,
   "id": "a6ef1f73",
   "metadata": {},
   "outputs": [
    {
     "name": "stdout",
     "output_type": "stream",
     "text": [
      "(2, 33, 3.3, 'sachin', True, {33, 44})\n"
     ]
    }
   ],
   "source": [
    "#ANS 25 write a python program to convert a list of tuple\n",
    "\n",
    "list2=[2,33,3.3,'sachin',True,{33,44}]\n",
    "y=tuple(list2)\n",
    "print(y)"
   ]
  },
  {
   "cell_type": "code",
   "execution_count": 36,
   "id": "aa24a6ba",
   "metadata": {},
   "outputs": [
    {
     "name": "stdout",
     "output_type": "stream",
     "text": [
      "(8, 7, 6, 5, 4, 3, 2, 1)\n"
     ]
    }
   ],
   "source": [
    "#ANS 26 write a python program to reverse a tuple\n",
    "\n",
    "tup4=(1,2,3,4,5,6,7,8)\n",
    "y=tup4[::-1]\n",
    "print(y)"
   ]
  },
  {
   "cell_type": "code",
   "execution_count": 42,
   "id": "bf49ece6",
   "metadata": {},
   "outputs": [
    {
     "name": "stdout",
     "output_type": "stream",
     "text": [
      "[22, 33, 44, 'sachin']\n"
     ]
    }
   ],
   "source": [
    "#ANS 27 write a python program to replace last value of tuple\n",
    "tuple=(22,33,44,55)\n",
    "a=list(tuple)\n",
    "a.pop()\n",
    "a.append('sachin')\n",
    "print(a)"
   ]
  },
  {
   "cell_type": "code",
   "execution_count": null,
   "id": "bbbd04f4",
   "metadata": {},
   "outputs": [],
   "source": [
    "#ANS 28"
   ]
  },
  {
   "cell_type": "code",
   "execution_count": 44,
   "id": "6d1ef312",
   "metadata": {},
   "outputs": [
    {
     "name": "stdout",
     "output_type": "stream",
     "text": [
      "[22, 33, 45]\n"
     ]
    }
   ],
   "source": [
    "#ANS 29 write a python program to remove empty tuple from list of tuple \n",
    "list=[22,33,(),45]\n",
    "a=list.remove(())\n",
    "print(list)"
   ]
  },
  {
   "cell_type": "code",
   "execution_count": null,
   "id": "e1c3094b",
   "metadata": {},
   "outputs": [],
   "source": [
    "#ANS 30"
   ]
  },
  {
   "cell_type": "code",
   "execution_count": 46,
   "id": "e6301ea6",
   "metadata": {},
   "outputs": [
    {
     "data": {
      "text/plain": [
       "{22: 33, 44: 55}"
      ]
     },
     "execution_count": 46,
     "metadata": {},
     "output_type": "execute_result"
    }
   ],
   "source": [
    "#ANS 31\n",
    "tuple=([22,33],[44,55])\n",
    "dict(tuple)"
   ]
  },
  {
   "cell_type": "code",
   "execution_count": null,
   "id": "890f57f5",
   "metadata": {},
   "outputs": [],
   "source": [
    "#ANS 32\n"
   ]
  },
  {
   "cell_type": "code",
   "execution_count": null,
   "id": "547abfb7",
   "metadata": {},
   "outputs": [],
   "source": [
    "#ANS 33\n",
    "dict={22:33,44:45}\n",
    "dict2={3:44,44:55}\n"
   ]
  },
  {
   "cell_type": "code",
   "execution_count": 54,
   "id": "10368a81",
   "metadata": {},
   "outputs": [
    {
     "name": "stdout",
     "output_type": "stream",
     "text": [
      "{22: 33, 33: 34, 3: 'sachin', 445: 56, 44: 67}\n"
     ]
    }
   ],
   "source": [
    "#ANS 34 write a python program to concatenate following dictionary to create new one \n",
    "\n",
    "dict1={22:33,33:34,3:'sachin'}\n",
    "dict2={445:56,44:67}\n",
    "dict1.update(dict2)\n",
    "print(dict1)"
   ]
  },
  {
   "cell_type": "code",
   "execution_count": 49,
   "id": "fb30695a",
   "metadata": {},
   "outputs": [
    {
     "name": "stdout",
     "output_type": "stream",
     "text": [
      "33\n",
      "exist\n"
     ]
    }
   ],
   "source": [
    "#ANS 35  write a python script to check if a given key alrteady exit\n",
    "\n",
    "y=int(input())\n",
    "dict={22:33,334:'sachin',33:44,4:'bvishal'}\n",
    "if y in dict:\n",
    "    print('exist')\n",
    "else:\n",
    "    print('not exist')\n",
    "    "
   ]
  },
  {
   "cell_type": "code",
   "execution_count": 56,
   "id": "bf9f73c8",
   "metadata": {},
   "outputs": [
    {
     "name": "stdout",
     "output_type": "stream",
     "text": [
      "{22: 33, 33: 34, 3: 'sagar', 445: 56, 44: 87}\n"
     ]
    }
   ],
   "source": [
    "#ANS 36 write a python program to merge  two python dictionary\n",
    "\n",
    "dict1={22:33,33:34,3:'sagar'}\n",
    "dict2={445:56,44:87}\n",
    "dict1.update(dict2)\n",
    "print(dict1)"
   ]
  },
  {
   "cell_type": "code",
   "execution_count": null,
   "id": "e143b25d",
   "metadata": {},
   "outputs": [],
   "source": []
  }
 ],
 "metadata": {
  "kernelspec": {
   "display_name": "Python 3 (ipykernel)",
   "language": "python",
   "name": "python3"
  },
  "language_info": {
   "codemirror_mode": {
    "name": "ipython",
    "version": 3
   },
   "file_extension": ".py",
   "mimetype": "text/x-python",
   "name": "python",
   "nbconvert_exporter": "python",
   "pygments_lexer": "ipython3",
   "version": "3.9.13"
  }
 },
 "nbformat": 4,
 "nbformat_minor": 5
}
